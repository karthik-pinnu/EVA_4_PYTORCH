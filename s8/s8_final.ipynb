{
  "nbformat": 4,
  "nbformat_minor": 0,
  "metadata": {
    "colab": {
      "name": "s8_final.ipynb",
      "provenance": []
    },
    "kernelspec": {
      "name": "python3",
      "display_name": "Python 3"
    },
    "accelerator": "GPU"
  },
  "cells": [
    {
      "cell_type": "code",
      "metadata": {
        "id": "HheIb4a-ZgPf",
        "colab_type": "code",
        "colab": {}
      },
      "source": [
        "\n",
        "import torch\n",
        "import torch.nn as nn\n",
        "import torch.optim as optim\n",
        "import torch.nn.functional as F\n",
        "import torch.backends.cudnn as cudnn\n",
        "\n",
        "import torchvision\n",
        "import torchvision.transforms as transforms\n",
        "\n",
        "import os\n",
        "import argparse\n",
        "from tqdm import tqdm"
      ],
      "execution_count": 0,
      "outputs": []
    },
    {
      "cell_type": "code",
      "metadata": {
        "id": "Y0kO2ah4Zmzi",
        "colab_type": "code",
        "colab": {}
      },
      "source": [
        "class basic():\n",
        "  def __init__(self):\n",
        "    self.criterion = nn.CrossEntropyLoss()\n",
        "    #optimizer = optim.SGD(net.parameters(), lr=0.001, momentum=0.9, weight_decay=5e-4)\n",
        "    self.train_losses = []\n",
        "    self.test_losses = []\n",
        "    self.train_acc = []\n",
        "    self.test_acc = []\n",
        "    #use_cuda = torch.cuda.is_available()\n",
        "    self.device = torch.device(\"cuda\" if torch.cuda.is_available() else \"cpu\")\n",
        "    # model = self.ResNet(self.BasicBlock, [2,2,2,2]).to(device)\n",
        "    # optimizer = optim.SGD(model.parameters(), lr=0.001, momentum=0.9, weight_decay=5e-4)\n",
        "    self.epoch = 1\n",
        "    \n",
        "\n",
        "\n",
        "  def data_loader(self):\n",
        "    transform_train = transforms.Compose([\n",
        "    transforms.RandomCrop(32, padding=4),\n",
        "    transforms.RandomHorizontalFlip(),\n",
        "    transforms.ToTensor(),\n",
        "    transforms.Normalize((0.4914, 0.4822, 0.4465), (0.2023, 0.1994, 0.2010)),])\n",
        "    transform_test = transforms.Compose([\n",
        "    transforms.ToTensor(),\n",
        "    transforms.Normalize((0.4914, 0.4822, 0.4465), (0.2023, 0.1994, 0.2010)),])\n",
        "    trainset = torchvision.datasets.CIFAR10(root='./data', train=True, download=True, transform=transform_train)\n",
        "    self.train_loader = torch.utils.data.DataLoader(trainset, batch_size=128, shuffle=True, num_workers=0)\n",
        "    testset = torchvision.datasets.CIFAR10(root='./data', train=False, download=True, transform=transform_test)\n",
        "    self.test_loader = torch.utils.data.DataLoader(testset, batch_size=100, shuffle=False, num_workers=0)\n",
        "    self.classes = ('plane', 'car', 'bird', 'cat', 'deer', 'dog', 'frog', 'horse', 'ship', 'truck')\n",
        "    return self.train_loader,self.test_loader,self.classes\n",
        "\n",
        "  def train(self,model,device,train_loader,optimizer,epoch):\n",
        "    model.train()\n",
        "    pbar = tqdm(train_loader)\n",
        "    correct = 0\n",
        "    processed = 0\n",
        "    for batch_idx, (data, target) in enumerate(pbar):\n",
        "      # get samples\n",
        "      data, target = data.to(device), target.to(device)\n",
        "\n",
        "      # Init\n",
        "      optimizer.zero_grad()\n",
        "      # In PyTorch, we need to set the gradients to zero before starting to do backpropragation because PyTorch accumulates the gradients on subsequent backward passes. \n",
        "      # Because of this, when you start your training loop, ideally you should zero out the gradients so that you do the parameter update correctly.\n",
        "\n",
        "      # Predict\n",
        "      y_pred = model(data)\n",
        "\n",
        "      # Calculate loss\n",
        "      loss = self.criterion(y_pred, target)\n",
        "      self.train_losses.append(loss)\n",
        "\n",
        "      # Backpropagation\n",
        "      loss.backward()\n",
        "      optimizer.step()\n",
        "\n",
        "      # Update pbar-tqdm\n",
        "      \n",
        "      pred = y_pred.argmax(dim=1, keepdim=True)  # get the index of the max log-probability\n",
        "      correct += pred.eq(target.view_as(pred)).sum().item()\n",
        "      processed += len(data)\n",
        "\n",
        "      pbar.set_description(desc= f'Loss={loss.item()} Batch_id={batch_idx} Accuracy={100*correct/processed:0.2f}')\n",
        "      self.train_acc.append(100*correct/processed)\n",
        "  def test(self,model, device, test_loader):\n",
        "    model.eval()\n",
        "    test_loss = 0\n",
        "    correct = 0\n",
        "    total = 0\n",
        "    with torch.no_grad():\n",
        "        for data in test_loader:\n",
        "            data, target = data\n",
        "            data, target = data.to(device), target.to(device)\n",
        "            output = model(data)\n",
        "            _, predicted = torch.max(output.data, 1)\n",
        "            total += target.size(0)\n",
        "            correct += (predicted == target).sum().item()\n",
        "            test_loss += self.criterion(output, target)\n",
        "            # pred = output.argmax(dim=1, keepdim=True)  # get the index of the max log-probability\n",
        "            # correct += pred.eq(target.view_as(pred)).sum().item()\n",
        "    class_correct = list(0. for i in range(10))\n",
        "    class_total = list(0. for i in range(10))\n",
        "    with torch.no_grad():\n",
        "      for data in test_loader:\n",
        "        images, labels = data\n",
        "        images, labels = images.to(device), labels.to(device)\n",
        "        outputs = net(images)\n",
        "        _, predicted = torch.max(outputs, 1)\n",
        "        c = (predicted == labels).squeeze()\n",
        "        for i in range(4):\n",
        "            label = labels[i]\n",
        "            class_correct[label] += c[i].item()\n",
        "            class_total[label] += 1\n",
        "\n",
        "    test_loss /= len(self.test_loader.dataset)\n",
        "    self.test_losses.append(test_loss)\n",
        "\n",
        "    print('\\nTest set: Average loss: {:.4f}, Accuracy: {}/{} ({:.2f}%)\\n'.format(\n",
        "        test_loss, correct, len(test_loader.dataset),\n",
        "        100. * correct / len(test_loader.dataset)))\n",
        "    print('Accuracy of the network of test images: %d %%' % (\n",
        "    100 * correct / total))\n",
        "    self.test_acc.append(100. * correct / len(test_loader.dataset))\n",
        "    for i in range(10):\n",
        "      print('Accuracy of %5s : %2d %%' % (classes[i], 100 * class_correct[i] / class_total[i]))"
      ],
      "execution_count": 0,
      "outputs": []
    },
    {
      "cell_type": "code",
      "metadata": {
        "id": "LylCf03-aRWI",
        "colab_type": "code",
        "colab": {}
      },
      "source": [
        "class BasicBlock(nn.Module):\n",
        "        expansion = 1\n",
        "\n",
        "        def __init__(self, in_planes, planes, stride=1):\n",
        "            super(BasicBlock, self).__init__()\n",
        "            self.conv1 = nn.Conv2d(in_planes, planes, kernel_size=3, stride=stride, padding=1, bias=False)\n",
        "            self.bn1 = nn.BatchNorm2d(planes)\n",
        "            self.conv2 = nn.Conv2d(planes, planes, kernel_size=3, stride=1, padding=1, bias=False)\n",
        "            self.bn2 = nn.BatchNorm2d(planes)\n",
        "\n",
        "            self.shortcut = nn.Sequential()\n",
        "            if stride != 1 or in_planes != self.expansion*planes:\n",
        "                self.shortcut = nn.Sequential(\n",
        "                    nn.Conv2d(in_planes, self.expansion*planes, kernel_size=1, stride=stride, bias=False),\n",
        "                    nn.BatchNorm2d(self.expansion*planes)\n",
        "                )\n",
        "\n",
        "        def forward(self, x):\n",
        "            out = F.relu(self.bn1(self.conv1(x)))\n",
        "            out = self.bn2(self.conv2(out))\n",
        "            out += self.shortcut(x)\n",
        "            out = F.relu(out)\n",
        "            return out\n"
      ],
      "execution_count": 0,
      "outputs": []
    },
    {
      "cell_type": "code",
      "metadata": {
        "id": "BWVKSeZNaYDi",
        "colab_type": "code",
        "colab": {}
      },
      "source": [
        "class ResNet(nn.Module):\n",
        "    def __init__(self, block, num_blocks, num_classes=10):\n",
        "        super(ResNet, self).__init__()\n",
        "        self.in_planes = 64\n",
        "\n",
        "        self.conv1 = nn.Conv2d(3, 64, kernel_size=3, stride=1, padding=1, bias=False)\n",
        "        self.bn1 = nn.BatchNorm2d(64)\n",
        "        self.layer1 = self._make_layer(block, 64, num_blocks[0], stride=1)\n",
        "        self.layer2 = self._make_layer(block, 128, num_blocks[1], stride=2)\n",
        "        self.layer3 = self._make_layer(block, 256, num_blocks[2], stride=2)\n",
        "        self.layer4 = self._make_layer(block, 512, num_blocks[3], stride=2)\n",
        "        self.linear = nn.Linear(512*block.expansion, num_classes)\n",
        "\n",
        "    def _make_layer(self, block, planes, num_blocks, stride):\n",
        "        strides = [stride] + [1]*(num_blocks-1)\n",
        "        layers = []\n",
        "        for stride in strides:\n",
        "            layers.append(block(self.in_planes, planes, stride))\n",
        "            self.in_planes = planes * block.expansion\n",
        "        return nn.Sequential(*layers)\n",
        "\n",
        "    def forward(self, x):\n",
        "        out = F.relu(self.bn1(self.conv1(x)))\n",
        "        out = self.layer1(out)\n",
        "        out = self.layer2(out)\n",
        "        out = self.layer3(out)\n",
        "        out = self.layer4(out)\n",
        "        out = F.avg_pool2d(out, 4)\n",
        "        out = out.view(out.size(0), -1)\n",
        "        out = self.linear(out)\n",
        "        return out"
      ],
      "execution_count": 0,
      "outputs": []
    },
    {
      "cell_type": "code",
      "metadata": {
        "id": "Hd96oKTPbdo4",
        "colab_type": "code",
        "colab": {}
      },
      "source": [
        "net = ResNet(BasicBlock, [2,2,2,2])\n",
        "device =  torch.device(\"cuda\" if torch.cuda.is_available() else \"cpu\")\n",
        "model = net.to(device)\n",
        "optimizer = optim.SGD(model.parameters(), lr=0.001, momentum=0.9, weight_decay=5e-4)"
      ],
      "execution_count": 0,
      "outputs": []
    },
    {
      "cell_type": "code",
      "metadata": {
        "id": "fW8YxMOEZ9gy",
        "colab_type": "code",
        "colab": {
          "base_uri": "https://localhost:8080/",
          "height": 1000
        },
        "outputId": "f6f1b46a-a29e-4270-cc0c-e3e953fd6689"
      },
      "source": [
        "q = basic()\n",
        "train,test,classes = q.data_loader()\n",
        "for epoch in range(30):\n",
        "  q.train(model,device,train,optimizer,epoch)\n",
        "  q.test(model,device,test)"
      ],
      "execution_count": 7,
      "outputs": [
        {
          "output_type": "stream",
          "text": [
            "Files already downloaded and verified\n",
            "Files already downloaded and verified\n"
          ],
          "name": "stdout"
        },
        {
          "output_type": "stream",
          "text": [
            "Loss=0.9605137705802917 Batch_id=390 Accuracy=55.40: 100%|██████████| 391/391 [01:09<00:00,  6.26it/s]\n",
            "Loss=1.0301302671432495 Batch_id=0 Accuracy=62.50:   0%|          | 1/391 [00:00<01:06,  5.83it/s]"
          ],
          "name": "stderr"
        },
        {
          "output_type": "stream",
          "text": [
            "\n",
            "Test set: Average loss: 0.0115, Accuracy: 5883/10000 (58.83%)\n",
            "\n",
            "Accuracy of the network of test images: 58 %\n",
            "Accuracy of plane : 75 %\n",
            "Accuracy of   car : 81 %\n",
            "Accuracy of  bird : 42 %\n",
            "Accuracy of   cat : 51 %\n",
            "Accuracy of  deer : 48 %\n",
            "Accuracy of   dog : 21 %\n",
            "Accuracy of  frog : 81 %\n",
            "Accuracy of horse : 59 %\n",
            "Accuracy of  ship : 58 %\n",
            "Accuracy of truck : 68 %\n"
          ],
          "name": "stdout"
        },
        {
          "output_type": "stream",
          "text": [
            "Loss=1.0477604866027832 Batch_id=390 Accuracy=63.13: 100%|██████████| 391/391 [01:09<00:00,  6.36it/s]\n",
            "Loss=0.9325343370437622 Batch_id=0 Accuracy=67.97:   0%|          | 1/391 [00:00<01:09,  5.61it/s]"
          ],
          "name": "stderr"
        },
        {
          "output_type": "stream",
          "text": [
            "\n",
            "Test set: Average loss: 0.0096, Accuracy: 6549/10000 (65.49%)\n",
            "\n",
            "Accuracy of the network of test images: 65 %\n",
            "Accuracy of plane : 52 %\n",
            "Accuracy of   car : 81 %\n",
            "Accuracy of  bird : 60 %\n",
            "Accuracy of   cat : 55 %\n",
            "Accuracy of  deer : 51 %\n",
            "Accuracy of   dog : 50 %\n",
            "Accuracy of  frog : 77 %\n",
            "Accuracy of horse : 75 %\n",
            "Accuracy of  ship : 79 %\n",
            "Accuracy of truck : 55 %\n"
          ],
          "name": "stdout"
        },
        {
          "output_type": "stream",
          "text": [
            "Loss=0.9349310994148254 Batch_id=390 Accuracy=68.65: 100%|██████████| 391/391 [01:08<00:00,  6.29it/s]\n",
            "Loss=0.8629665970802307 Batch_id=0 Accuracy=69.53:   0%|          | 1/391 [00:00<01:07,  5.74it/s]"
          ],
          "name": "stderr"
        },
        {
          "output_type": "stream",
          "text": [
            "\n",
            "Test set: Average loss: 0.0098, Accuracy: 6627/10000 (66.27%)\n",
            "\n",
            "Accuracy of the network of test images: 66 %\n",
            "Accuracy of plane : 79 %\n",
            "Accuracy of   car : 78 %\n",
            "Accuracy of  bird : 73 %\n",
            "Accuracy of   cat : 41 %\n",
            "Accuracy of  deer : 67 %\n",
            "Accuracy of   dog : 28 %\n",
            "Accuracy of  frog : 77 %\n",
            "Accuracy of horse : 68 %\n",
            "Accuracy of  ship : 68 %\n",
            "Accuracy of truck : 82 %\n"
          ],
          "name": "stdout"
        },
        {
          "output_type": "stream",
          "text": [
            "Loss=0.821447491645813 Batch_id=390 Accuracy=72.97: 100%|██████████| 391/391 [01:08<00:00,  6.38it/s]\n",
            "Loss=0.7780309915542603 Batch_id=0 Accuracy=70.31:   0%|          | 1/391 [00:00<01:09,  5.63it/s]"
          ],
          "name": "stderr"
        },
        {
          "output_type": "stream",
          "text": [
            "\n",
            "Test set: Average loss: 0.0078, Accuracy: 7322/10000 (73.22%)\n",
            "\n",
            "Accuracy of the network of test images: 73 %\n",
            "Accuracy of plane : 93 %\n",
            "Accuracy of   car : 71 %\n",
            "Accuracy of  bird : 39 %\n",
            "Accuracy of   cat : 65 %\n",
            "Accuracy of  deer : 77 %\n",
            "Accuracy of   dog : 53 %\n",
            "Accuracy of  frog : 77 %\n",
            "Accuracy of horse : 84 %\n",
            "Accuracy of  ship : 68 %\n",
            "Accuracy of truck : 86 %\n"
          ],
          "name": "stdout"
        },
        {
          "output_type": "stream",
          "text": [
            "Loss=0.5299245715141296 Batch_id=390 Accuracy=75.78: 100%|██████████| 391/391 [01:09<00:00,  6.26it/s]\n",
            "Loss=0.7361225485801697 Batch_id=0 Accuracy=70.31:   0%|          | 1/391 [00:00<01:08,  5.67it/s]"
          ],
          "name": "stderr"
        },
        {
          "output_type": "stream",
          "text": [
            "\n",
            "Test set: Average loss: 0.0070, Accuracy: 7611/10000 (76.11%)\n",
            "\n",
            "Accuracy of the network of test images: 76 %\n",
            "Accuracy of plane : 88 %\n",
            "Accuracy of   car : 84 %\n",
            "Accuracy of  bird : 50 %\n",
            "Accuracy of   cat : 60 %\n",
            "Accuracy of  deer : 77 %\n",
            "Accuracy of   dog : 56 %\n",
            "Accuracy of  frog : 79 %\n",
            "Accuracy of horse : 84 %\n",
            "Accuracy of  ship : 81 %\n",
            "Accuracy of truck : 82 %\n"
          ],
          "name": "stdout"
        },
        {
          "output_type": "stream",
          "text": [
            "Loss=0.4955027997493744 Batch_id=390 Accuracy=78.26: 100%|██████████| 391/391 [01:08<00:00,  6.29it/s]\n",
            "Loss=0.5907719135284424 Batch_id=0 Accuracy=79.69:   0%|          | 1/391 [00:00<01:09,  5.64it/s]"
          ],
          "name": "stderr"
        },
        {
          "output_type": "stream",
          "text": [
            "\n",
            "Test set: Average loss: 0.0073, Accuracy: 7476/10000 (74.76%)\n",
            "\n",
            "Accuracy of the network of test images: 74 %\n",
            "Accuracy of plane : 88 %\n",
            "Accuracy of   car : 93 %\n",
            "Accuracy of  bird : 65 %\n",
            "Accuracy of   cat : 81 %\n",
            "Accuracy of  deer : 87 %\n",
            "Accuracy of   dog : 28 %\n",
            "Accuracy of  frog : 73 %\n",
            "Accuracy of horse : 84 %\n",
            "Accuracy of  ship : 79 %\n",
            "Accuracy of truck : 93 %\n"
          ],
          "name": "stdout"
        },
        {
          "output_type": "stream",
          "text": [
            "Loss=0.5132149457931519 Batch_id=390 Accuracy=79.89: 100%|██████████| 391/391 [01:08<00:00,  6.46it/s]\n",
            "Loss=0.5469475984573364 Batch_id=0 Accuracy=81.25:   0%|          | 1/391 [00:00<01:08,  5.73it/s]"
          ],
          "name": "stderr"
        },
        {
          "output_type": "stream",
          "text": [
            "\n",
            "Test set: Average loss: 0.0065, Accuracy: 7762/10000 (77.62%)\n",
            "\n",
            "Accuracy of the network of test images: 77 %\n",
            "Accuracy of plane : 90 %\n",
            "Accuracy of   car : 84 %\n",
            "Accuracy of  bird : 71 %\n",
            "Accuracy of   cat : 65 %\n",
            "Accuracy of  deer : 79 %\n",
            "Accuracy of   dog : 65 %\n",
            "Accuracy of  frog : 79 %\n",
            "Accuracy of horse : 78 %\n",
            "Accuracy of  ship : 87 %\n",
            "Accuracy of truck : 82 %\n"
          ],
          "name": "stdout"
        },
        {
          "output_type": "stream",
          "text": [
            "Loss=0.44167107343673706 Batch_id=390 Accuracy=81.66: 100%|██████████| 391/391 [01:08<00:00,  6.39it/s]\n",
            "Loss=0.4423672556877136 Batch_id=0 Accuracy=83.59:   0%|          | 1/391 [00:00<01:10,  5.54it/s]"
          ],
          "name": "stderr"
        },
        {
          "output_type": "stream",
          "text": [
            "\n",
            "Test set: Average loss: 0.0074, Accuracy: 7624/10000 (76.24%)\n",
            "\n",
            "Accuracy of the network of test images: 76 %\n",
            "Accuracy of plane : 81 %\n",
            "Accuracy of   car : 68 %\n",
            "Accuracy of  bird : 68 %\n",
            "Accuracy of   cat : 55 %\n",
            "Accuracy of  deer : 77 %\n",
            "Accuracy of   dog : 59 %\n",
            "Accuracy of  frog : 86 %\n",
            "Accuracy of horse : 84 %\n",
            "Accuracy of  ship : 95 %\n",
            "Accuracy of truck : 100 %\n"
          ],
          "name": "stdout"
        },
        {
          "output_type": "stream",
          "text": [
            "Loss=0.27809542417526245 Batch_id=390 Accuracy=82.90: 100%|██████████| 391/391 [01:09<00:00,  6.27it/s]\n",
            "Loss=0.40054604411125183 Batch_id=0 Accuracy=86.72:   0%|          | 1/391 [00:00<01:07,  5.78it/s]"
          ],
          "name": "stderr"
        },
        {
          "output_type": "stream",
          "text": [
            "\n",
            "Test set: Average loss: 0.0055, Accuracy: 8137/10000 (81.37%)\n",
            "\n",
            "Accuracy of the network of test images: 81 %\n",
            "Accuracy of plane : 100 %\n",
            "Accuracy of   car : 93 %\n",
            "Accuracy of  bird : 63 %\n",
            "Accuracy of   cat : 72 %\n",
            "Accuracy of  deer : 85 %\n",
            "Accuracy of   dog : 71 %\n",
            "Accuracy of  frog : 73 %\n",
            "Accuracy of horse : 90 %\n",
            "Accuracy of  ship : 83 %\n",
            "Accuracy of truck : 79 %\n"
          ],
          "name": "stdout"
        },
        {
          "output_type": "stream",
          "text": [
            "Loss=0.6224402189254761 Batch_id=390 Accuracy=83.92: 100%|██████████| 391/391 [01:09<00:00,  6.40it/s]\n",
            "Loss=0.4485991895198822 Batch_id=0 Accuracy=83.59:   0%|          | 1/391 [00:00<01:09,  5.60it/s]"
          ],
          "name": "stderr"
        },
        {
          "output_type": "stream",
          "text": [
            "\n",
            "Test set: Average loss: 0.0052, Accuracy: 8222/10000 (82.22%)\n",
            "\n",
            "Accuracy of the network of test images: 82 %\n",
            "Accuracy of plane : 84 %\n",
            "Accuracy of   car : 93 %\n",
            "Accuracy of  bird : 68 %\n",
            "Accuracy of   cat : 60 %\n",
            "Accuracy of  deer : 73 %\n",
            "Accuracy of   dog : 75 %\n",
            "Accuracy of  frog : 86 %\n",
            "Accuracy of horse : 90 %\n",
            "Accuracy of  ship : 93 %\n",
            "Accuracy of truck : 82 %\n"
          ],
          "name": "stdout"
        },
        {
          "output_type": "stream",
          "text": [
            "Loss=0.40002235770225525 Batch_id=390 Accuracy=84.91: 100%|██████████| 391/391 [01:08<00:00,  6.33it/s]\n",
            "Loss=0.5932793021202087 Batch_id=0 Accuracy=79.69:   0%|          | 1/391 [00:00<01:09,  5.65it/s]"
          ],
          "name": "stderr"
        },
        {
          "output_type": "stream",
          "text": [
            "\n",
            "Test set: Average loss: 0.0052, Accuracy: 8249/10000 (82.49%)\n",
            "\n",
            "Accuracy of the network of test images: 82 %\n",
            "Accuracy of plane : 88 %\n",
            "Accuracy of   car : 93 %\n",
            "Accuracy of  bird : 78 %\n",
            "Accuracy of   cat : 72 %\n",
            "Accuracy of  deer : 85 %\n",
            "Accuracy of   dog : 65 %\n",
            "Accuracy of  frog : 96 %\n",
            "Accuracy of horse : 81 %\n",
            "Accuracy of  ship : 89 %\n",
            "Accuracy of truck : 86 %\n"
          ],
          "name": "stdout"
        },
        {
          "output_type": "stream",
          "text": [
            "Loss=0.3528590500354767 Batch_id=390 Accuracy=85.76: 100%|██████████| 391/391 [01:08<00:00,  6.21it/s]\n",
            "Loss=0.32744812965393066 Batch_id=0 Accuracy=89.06:   0%|          | 1/391 [00:00<01:07,  5.80it/s]"
          ],
          "name": "stderr"
        },
        {
          "output_type": "stream",
          "text": [
            "\n",
            "Test set: Average loss: 0.0052, Accuracy: 8305/10000 (83.05%)\n",
            "\n",
            "Accuracy of the network of test images: 83 %\n",
            "Accuracy of plane : 95 %\n",
            "Accuracy of   car : 84 %\n",
            "Accuracy of  bird : 60 %\n",
            "Accuracy of   cat : 62 %\n",
            "Accuracy of  deer : 77 %\n",
            "Accuracy of   dog : 84 %\n",
            "Accuracy of  frog : 94 %\n",
            "Accuracy of horse : 100 %\n",
            "Accuracy of  ship : 83 %\n",
            "Accuracy of truck : 96 %\n"
          ],
          "name": "stdout"
        },
        {
          "output_type": "stream",
          "text": [
            "Loss=0.3378051519393921 Batch_id=390 Accuracy=86.55: 100%|██████████| 391/391 [01:08<00:00,  6.16it/s]\n",
            "Loss=0.45482414960861206 Batch_id=0 Accuracy=83.59:   0%|          | 1/391 [00:00<01:09,  5.64it/s]"
          ],
          "name": "stderr"
        },
        {
          "output_type": "stream",
          "text": [
            "\n",
            "Test set: Average loss: 0.0056, Accuracy: 8194/10000 (81.94%)\n",
            "\n",
            "Accuracy of the network of test images: 81 %\n",
            "Accuracy of plane : 93 %\n",
            "Accuracy of   car : 96 %\n",
            "Accuracy of  bird : 52 %\n",
            "Accuracy of   cat : 76 %\n",
            "Accuracy of  deer : 81 %\n",
            "Accuracy of   dog : 87 %\n",
            "Accuracy of  frog : 77 %\n",
            "Accuracy of horse : 93 %\n",
            "Accuracy of  ship : 87 %\n",
            "Accuracy of truck : 89 %\n"
          ],
          "name": "stdout"
        },
        {
          "output_type": "stream",
          "text": [
            "Loss=0.30874139070510864 Batch_id=390 Accuracy=87.47: 100%|██████████| 391/391 [01:08<00:00,  6.31it/s]\n",
            "Loss=0.4244159758090973 Batch_id=0 Accuracy=85.94:   0%|          | 1/391 [00:00<01:08,  5.72it/s]"
          ],
          "name": "stderr"
        },
        {
          "output_type": "stream",
          "text": [
            "\n",
            "Test set: Average loss: 0.0049, Accuracy: 8387/10000 (83.87%)\n",
            "\n",
            "Accuracy of the network of test images: 83 %\n",
            "Accuracy of plane : 100 %\n",
            "Accuracy of   car : 100 %\n",
            "Accuracy of  bird : 78 %\n",
            "Accuracy of   cat : 72 %\n",
            "Accuracy of  deer : 83 %\n",
            "Accuracy of   dog : 78 %\n",
            "Accuracy of  frog : 79 %\n",
            "Accuracy of horse : 96 %\n",
            "Accuracy of  ship : 83 %\n",
            "Accuracy of truck : 72 %\n"
          ],
          "name": "stdout"
        },
        {
          "output_type": "stream",
          "text": [
            "Loss=0.43173545598983765 Batch_id=390 Accuracy=88.11: 100%|██████████| 391/391 [01:08<00:00,  6.38it/s]\n",
            "Loss=0.3070354163646698 Batch_id=0 Accuracy=89.06:   0%|          | 1/391 [00:00<01:07,  5.78it/s]"
          ],
          "name": "stderr"
        },
        {
          "output_type": "stream",
          "text": [
            "\n",
            "Test set: Average loss: 0.0045, Accuracy: 8520/10000 (85.20%)\n",
            "\n",
            "Accuracy of the network of test images: 85 %\n",
            "Accuracy of plane : 90 %\n",
            "Accuracy of   car : 100 %\n",
            "Accuracy of  bird : 71 %\n",
            "Accuracy of   cat : 69 %\n",
            "Accuracy of  deer : 83 %\n",
            "Accuracy of   dog : 81 %\n",
            "Accuracy of  frog : 96 %\n",
            "Accuracy of horse : 87 %\n",
            "Accuracy of  ship : 87 %\n",
            "Accuracy of truck : 93 %\n"
          ],
          "name": "stdout"
        },
        {
          "output_type": "stream",
          "text": [
            "Loss=0.6177150011062622 Batch_id=390 Accuracy=88.65: 100%|██████████| 391/391 [01:09<00:00,  6.25it/s]\n",
            "Loss=0.2626645267009735 Batch_id=0 Accuracy=90.62:   0%|          | 1/391 [00:00<01:09,  5.63it/s]"
          ],
          "name": "stderr"
        },
        {
          "output_type": "stream",
          "text": [
            "\n",
            "Test set: Average loss: 0.0048, Accuracy: 8439/10000 (84.39%)\n",
            "\n",
            "Accuracy of the network of test images: 84 %\n",
            "Accuracy of plane : 95 %\n",
            "Accuracy of   car : 100 %\n",
            "Accuracy of  bird : 63 %\n",
            "Accuracy of   cat : 72 %\n",
            "Accuracy of  deer : 85 %\n",
            "Accuracy of   dog : 75 %\n",
            "Accuracy of  frog : 83 %\n",
            "Accuracy of horse : 87 %\n",
            "Accuracy of  ship : 93 %\n",
            "Accuracy of truck : 89 %\n"
          ],
          "name": "stdout"
        },
        {
          "output_type": "stream",
          "text": [
            "Loss=0.3646174669265747 Batch_id=390 Accuracy=89.03: 100%|██████████| 391/391 [01:09<00:00,  6.26it/s]\n",
            "Loss=0.30668365955352783 Batch_id=0 Accuracy=89.06:   0%|          | 1/391 [00:00<01:12,  5.37it/s]"
          ],
          "name": "stderr"
        },
        {
          "output_type": "stream",
          "text": [
            "\n",
            "Test set: Average loss: 0.0045, Accuracy: 8538/10000 (85.38%)\n",
            "\n",
            "Accuracy of the network of test images: 85 %\n",
            "Accuracy of plane : 93 %\n",
            "Accuracy of   car : 100 %\n",
            "Accuracy of  bird : 63 %\n",
            "Accuracy of   cat : 88 %\n",
            "Accuracy of  deer : 81 %\n",
            "Accuracy of   dog : 81 %\n",
            "Accuracy of  frog : 81 %\n",
            "Accuracy of horse : 93 %\n",
            "Accuracy of  ship : 93 %\n",
            "Accuracy of truck : 89 %\n"
          ],
          "name": "stdout"
        },
        {
          "output_type": "stream",
          "text": [
            "Loss=0.44573599100112915 Batch_id=390 Accuracy=89.85: 100%|██████████| 391/391 [01:09<00:00,  6.31it/s]\n",
            "Loss=0.29353100061416626 Batch_id=0 Accuracy=89.06:   0%|          | 1/391 [00:00<01:08,  5.74it/s]"
          ],
          "name": "stderr"
        },
        {
          "output_type": "stream",
          "text": [
            "\n",
            "Test set: Average loss: 0.0043, Accuracy: 8602/10000 (86.02%)\n",
            "\n",
            "Accuracy of the network of test images: 86 %\n",
            "Accuracy of plane : 90 %\n",
            "Accuracy of   car : 100 %\n",
            "Accuracy of  bird : 73 %\n",
            "Accuracy of   cat : 67 %\n",
            "Accuracy of  deer : 83 %\n",
            "Accuracy of   dog : 81 %\n",
            "Accuracy of  frog : 81 %\n",
            "Accuracy of horse : 90 %\n",
            "Accuracy of  ship : 87 %\n",
            "Accuracy of truck : 96 %\n"
          ],
          "name": "stdout"
        },
        {
          "output_type": "stream",
          "text": [
            "Loss=0.32422950863838196 Batch_id=390 Accuracy=90.13: 100%|██████████| 391/391 [01:09<00:00,  6.38it/s]\n",
            "Loss=0.22116577625274658 Batch_id=0 Accuracy=90.62:   0%|          | 1/391 [00:00<01:09,  5.65it/s]"
          ],
          "name": "stderr"
        },
        {
          "output_type": "stream",
          "text": [
            "\n",
            "Test set: Average loss: 0.0045, Accuracy: 8554/10000 (85.54%)\n",
            "\n",
            "Accuracy of the network of test images: 85 %\n",
            "Accuracy of plane : 88 %\n",
            "Accuracy of   car : 93 %\n",
            "Accuracy of  bird : 71 %\n",
            "Accuracy of   cat : 81 %\n",
            "Accuracy of  deer : 81 %\n",
            "Accuracy of   dog : 78 %\n",
            "Accuracy of  frog : 96 %\n",
            "Accuracy of horse : 87 %\n",
            "Accuracy of  ship : 93 %\n",
            "Accuracy of truck : 100 %\n"
          ],
          "name": "stdout"
        },
        {
          "output_type": "stream",
          "text": [
            "Loss=0.31442195177078247 Batch_id=390 Accuracy=90.75: 100%|██████████| 391/391 [01:08<00:00,  6.42it/s]\n",
            "Loss=0.17715710401535034 Batch_id=0 Accuracy=96.88:   0%|          | 1/391 [00:00<01:07,  5.75it/s]"
          ],
          "name": "stderr"
        },
        {
          "output_type": "stream",
          "text": [
            "\n",
            "Test set: Average loss: 0.0045, Accuracy: 8522/10000 (85.22%)\n",
            "\n",
            "Accuracy of the network of test images: 85 %\n",
            "Accuracy of plane : 90 %\n",
            "Accuracy of   car : 93 %\n",
            "Accuracy of  bird : 76 %\n",
            "Accuracy of   cat : 60 %\n",
            "Accuracy of  deer : 83 %\n",
            "Accuracy of   dog : 81 %\n",
            "Accuracy of  frog : 81 %\n",
            "Accuracy of horse : 81 %\n",
            "Accuracy of  ship : 95 %\n",
            "Accuracy of truck : 93 %\n"
          ],
          "name": "stdout"
        },
        {
          "output_type": "stream",
          "text": [
            "Loss=0.19612464308738708 Batch_id=390 Accuracy=91.00: 100%|██████████| 391/391 [01:09<00:00,  6.21it/s]\n",
            "Loss=0.1704971343278885 Batch_id=0 Accuracy=91.41:   0%|          | 1/391 [00:00<01:08,  5.72it/s]"
          ],
          "name": "stderr"
        },
        {
          "output_type": "stream",
          "text": [
            "\n",
            "Test set: Average loss: 0.0046, Accuracy: 8536/10000 (85.36%)\n",
            "\n",
            "Accuracy of the network of test images: 85 %\n",
            "Accuracy of plane : 93 %\n",
            "Accuracy of   car : 96 %\n",
            "Accuracy of  bird : 76 %\n",
            "Accuracy of   cat : 76 %\n",
            "Accuracy of  deer : 83 %\n",
            "Accuracy of   dog : 81 %\n",
            "Accuracy of  frog : 84 %\n",
            "Accuracy of horse : 81 %\n",
            "Accuracy of  ship : 89 %\n",
            "Accuracy of truck : 82 %\n"
          ],
          "name": "stdout"
        },
        {
          "output_type": "stream",
          "text": [
            "Loss=0.30301961302757263 Batch_id=390 Accuracy=91.36: 100%|██████████| 391/391 [01:09<00:00,  6.24it/s]\n",
            "Loss=0.2750965654850006 Batch_id=0 Accuracy=90.62:   0%|          | 1/391 [00:00<01:07,  5.76it/s]"
          ],
          "name": "stderr"
        },
        {
          "output_type": "stream",
          "text": [
            "\n",
            "Test set: Average loss: 0.0040, Accuracy: 8650/10000 (86.50%)\n",
            "\n",
            "Accuracy of the network of test images: 86 %\n",
            "Accuracy of plane : 88 %\n",
            "Accuracy of   car : 96 %\n",
            "Accuracy of  bird : 81 %\n",
            "Accuracy of   cat : 65 %\n",
            "Accuracy of  deer : 83 %\n",
            "Accuracy of   dog : 87 %\n",
            "Accuracy of  frog : 88 %\n",
            "Accuracy of horse : 84 %\n",
            "Accuracy of  ship : 85 %\n",
            "Accuracy of truck : 89 %\n"
          ],
          "name": "stdout"
        },
        {
          "output_type": "stream",
          "text": [
            "Loss=0.24918250739574432 Batch_id=390 Accuracy=92.03: 100%|██████████| 391/391 [01:09<00:00,  6.30it/s]\n",
            "Loss=0.15827356278896332 Batch_id=0 Accuracy=96.09:   0%|          | 1/391 [00:00<01:08,  5.73it/s]"
          ],
          "name": "stderr"
        },
        {
          "output_type": "stream",
          "text": [
            "\n",
            "Test set: Average loss: 0.0044, Accuracy: 8583/10000 (85.83%)\n",
            "\n",
            "Accuracy of the network of test images: 85 %\n",
            "Accuracy of plane : 95 %\n",
            "Accuracy of   car : 100 %\n",
            "Accuracy of  bird : 78 %\n",
            "Accuracy of   cat : 72 %\n",
            "Accuracy of  deer : 83 %\n",
            "Accuracy of   dog : 78 %\n",
            "Accuracy of  frog : 79 %\n",
            "Accuracy of horse : 84 %\n",
            "Accuracy of  ship : 89 %\n",
            "Accuracy of truck : 89 %\n"
          ],
          "name": "stdout"
        },
        {
          "output_type": "stream",
          "text": [
            "Loss=0.3134114444255829 Batch_id=390 Accuracy=92.37: 100%|██████████| 391/391 [01:09<00:00,  6.28it/s]\n",
            "Loss=0.18200376629829407 Batch_id=0 Accuracy=95.31:   0%|          | 1/391 [00:00<01:09,  5.58it/s]"
          ],
          "name": "stderr"
        },
        {
          "output_type": "stream",
          "text": [
            "\n",
            "Test set: Average loss: 0.0044, Accuracy: 8651/10000 (86.51%)\n",
            "\n",
            "Accuracy of the network of test images: 86 %\n",
            "Accuracy of plane : 84 %\n",
            "Accuracy of   car : 96 %\n",
            "Accuracy of  bird : 63 %\n",
            "Accuracy of   cat : 72 %\n",
            "Accuracy of  deer : 87 %\n",
            "Accuracy of   dog : 84 %\n",
            "Accuracy of  frog : 98 %\n",
            "Accuracy of horse : 90 %\n",
            "Accuracy of  ship : 97 %\n",
            "Accuracy of truck : 100 %\n"
          ],
          "name": "stdout"
        },
        {
          "output_type": "stream",
          "text": [
            "Loss=0.31558746099472046 Batch_id=390 Accuracy=92.45: 100%|██████████| 391/391 [01:09<00:00,  6.44it/s]\n",
            "Loss=0.18720029294490814 Batch_id=0 Accuracy=92.19:   0%|          | 1/391 [00:00<01:06,  5.84it/s]"
          ],
          "name": "stderr"
        },
        {
          "output_type": "stream",
          "text": [
            "\n",
            "Test set: Average loss: 0.0042, Accuracy: 8657/10000 (86.57%)\n",
            "\n",
            "Accuracy of the network of test images: 86 %\n",
            "Accuracy of plane : 88 %\n",
            "Accuracy of   car : 100 %\n",
            "Accuracy of  bird : 68 %\n",
            "Accuracy of   cat : 76 %\n",
            "Accuracy of  deer : 77 %\n",
            "Accuracy of   dog : 81 %\n",
            "Accuracy of  frog : 84 %\n",
            "Accuracy of horse : 87 %\n",
            "Accuracy of  ship : 89 %\n",
            "Accuracy of truck : 89 %\n"
          ],
          "name": "stdout"
        },
        {
          "output_type": "stream",
          "text": [
            "Loss=0.151873379945755 Batch_id=390 Accuracy=93.06: 100%|██████████| 391/391 [01:09<00:00,  6.39it/s]\n",
            "Loss=0.19391275942325592 Batch_id=0 Accuracy=92.19:   0%|          | 1/391 [00:00<01:07,  5.78it/s]"
          ],
          "name": "stderr"
        },
        {
          "output_type": "stream",
          "text": [
            "\n",
            "Test set: Average loss: 0.0042, Accuracy: 8689/10000 (86.89%)\n",
            "\n",
            "Accuracy of the network of test images: 86 %\n",
            "Accuracy of plane : 86 %\n",
            "Accuracy of   car : 93 %\n",
            "Accuracy of  bird : 76 %\n",
            "Accuracy of   cat : 76 %\n",
            "Accuracy of  deer : 91 %\n",
            "Accuracy of   dog : 78 %\n",
            "Accuracy of  frog : 84 %\n",
            "Accuracy of horse : 87 %\n",
            "Accuracy of  ship : 93 %\n",
            "Accuracy of truck : 96 %\n"
          ],
          "name": "stdout"
        },
        {
          "output_type": "stream",
          "text": [
            "Loss=0.136545330286026 Batch_id=390 Accuracy=93.07: 100%|██████████| 391/391 [01:08<00:00,  6.37it/s]\n",
            "Loss=0.2223072350025177 Batch_id=0 Accuracy=92.19:   0%|          | 1/391 [00:00<01:08,  5.73it/s]"
          ],
          "name": "stderr"
        },
        {
          "output_type": "stream",
          "text": [
            "\n",
            "Test set: Average loss: 0.0041, Accuracy: 8733/10000 (87.33%)\n",
            "\n",
            "Accuracy of the network of test images: 87 %\n",
            "Accuracy of plane : 93 %\n",
            "Accuracy of   car : 100 %\n",
            "Accuracy of  bird : 71 %\n",
            "Accuracy of   cat : 88 %\n",
            "Accuracy of  deer : 83 %\n",
            "Accuracy of   dog : 81 %\n",
            "Accuracy of  frog : 92 %\n",
            "Accuracy of horse : 93 %\n",
            "Accuracy of  ship : 81 %\n",
            "Accuracy of truck : 96 %\n"
          ],
          "name": "stdout"
        },
        {
          "output_type": "stream",
          "text": [
            "Loss=0.241580531001091 Batch_id=390 Accuracy=93.60: 100%|██████████| 391/391 [01:09<00:00,  6.44it/s]\n",
            "Loss=0.09839154779911041 Batch_id=0 Accuracy=95.31:   0%|          | 1/391 [00:00<01:11,  5.44it/s]"
          ],
          "name": "stderr"
        },
        {
          "output_type": "stream",
          "text": [
            "\n",
            "Test set: Average loss: 0.0042, Accuracy: 8729/10000 (87.29%)\n",
            "\n",
            "Accuracy of the network of test images: 87 %\n",
            "Accuracy of plane : 95 %\n",
            "Accuracy of   car : 100 %\n",
            "Accuracy of  bird : 73 %\n",
            "Accuracy of   cat : 72 %\n",
            "Accuracy of  deer : 85 %\n",
            "Accuracy of   dog : 90 %\n",
            "Accuracy of  frog : 90 %\n",
            "Accuracy of horse : 93 %\n",
            "Accuracy of  ship : 91 %\n",
            "Accuracy of truck : 93 %\n"
          ],
          "name": "stdout"
        },
        {
          "output_type": "stream",
          "text": [
            "Loss=0.1685258448123932 Batch_id=390 Accuracy=93.95: 100%|██████████| 391/391 [01:09<00:00,  6.23it/s]\n",
            "Loss=0.14519855380058289 Batch_id=0 Accuracy=92.19:   0%|          | 1/391 [00:00<01:11,  5.46it/s]"
          ],
          "name": "stderr"
        },
        {
          "output_type": "stream",
          "text": [
            "\n",
            "Test set: Average loss: 0.0043, Accuracy: 8777/10000 (87.77%)\n",
            "\n",
            "Accuracy of the network of test images: 87 %\n",
            "Accuracy of plane : 95 %\n",
            "Accuracy of   car : 100 %\n",
            "Accuracy of  bird : 78 %\n",
            "Accuracy of   cat : 69 %\n",
            "Accuracy of  deer : 93 %\n",
            "Accuracy of   dog : 75 %\n",
            "Accuracy of  frog : 92 %\n",
            "Accuracy of horse : 90 %\n",
            "Accuracy of  ship : 91 %\n",
            "Accuracy of truck : 96 %\n"
          ],
          "name": "stdout"
        },
        {
          "output_type": "stream",
          "text": [
            "Loss=0.17687879502773285 Batch_id=390 Accuracy=94.05: 100%|██████████| 391/391 [01:08<00:00,  6.40it/s]\n"
          ],
          "name": "stderr"
        },
        {
          "output_type": "stream",
          "text": [
            "\n",
            "Test set: Average loss: 0.0043, Accuracy: 8739/10000 (87.39%)\n",
            "\n",
            "Accuracy of the network of test images: 87 %\n",
            "Accuracy of plane : 93 %\n",
            "Accuracy of   car : 100 %\n",
            "Accuracy of  bird : 73 %\n",
            "Accuracy of   cat : 67 %\n",
            "Accuracy of  deer : 87 %\n",
            "Accuracy of   dog : 75 %\n",
            "Accuracy of  frog : 94 %\n",
            "Accuracy of horse : 93 %\n",
            "Accuracy of  ship : 91 %\n",
            "Accuracy of truck : 100 %\n"
          ],
          "name": "stdout"
        }
      ]
    },
    {
      "cell_type": "code",
      "metadata": {
        "id": "orJAM1QbdlIS",
        "colab_type": "code",
        "colab": {}
      },
      "source": [
        ""
      ],
      "execution_count": 0,
      "outputs": []
    }
  ]
}